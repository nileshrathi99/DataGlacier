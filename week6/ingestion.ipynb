{
 "cells": [
  {
   "attachments": {},
   "cell_type": "markdown",
   "metadata": {},
   "source": [
    "## write utility file"
   ]
  },
  {
   "cell_type": "code",
   "execution_count": 1,
   "metadata": {},
   "outputs": [
    {
     "name": "stdout",
     "output_type": "stream",
     "text": [
      "Overwriting utility.py\n"
     ]
    }
   ],
   "source": [
    "%%writefile utility.py\n",
    "import os\n",
    "import yaml\n",
    "import pandas as pd\n",
    "import logging\n",
    "import datetime \n",
    "import gc\n",
    "import re\n",
    "\n",
    "# file read\n",
    "def read_config(filepath):\n",
    "    with open(filepath, 'r') as stream:\n",
    "        try:\n",
    "            return yaml.safe_load(stream)\n",
    "        except yaml.YAMLError as exc:\n",
    "            logging.error(exc)\n",
    "            \n",
    "\n",
    "def replacer(string, char):\n",
    "    pattern = char + '{2,}'\n",
    "    string = re.sub(pattern, char, string) \n",
    "    return string\n",
    "\n",
    "\n",
    "# validate the column header\n",
    "def column_header_val(df, config):\n",
    "    df.columns = df.columns.str.lower()\n",
    "    df.columns = df.columns.str.replace('[^\\w]','_',regex=True)\n",
    "    df.columns = list(map(lambda x: x.strip('_'), list(df.columns)))\n",
    "    df.columns = list(map(lambda x: replacer(x,'_'), list(df.columns)))\n",
    "    expected_col = list(map(lambda x: x.lower(), config['columns']))\n",
    "    expected_col.sort()\n",
    "    df.columns =list(map(lambda x: x.lower(), list(df.columns)))\n",
    "    if len(df.columns) >= len(expected_col) and all(element in df.columns for element in expected_col):\n",
    "        print(\"column name and column length validation passed\")\n",
    "        return 1\n",
    "    else:\n",
    "        print(\"column name and column length validation failed\")\n",
    "        mismatched_columns_file = list(set(df.columns).difference(expected_col))\n",
    "        print(\"Following File columns are not in the YAML file\",mismatched_columns_file)\n",
    "        missing_YAML_file = list(set(expected_col).difference(df.columns))\n",
    "        print(\"Following YAML columns are not in the file uploaded\",missing_YAML_file)\n",
    "        logging.info(f'df columns: {df.columns}')\n",
    "        logging.info(f'expected columns: {expected_col}')\n",
    "        return 0\n"
   ]
  },
  {
   "attachments": {},
   "cell_type": "markdown",
   "metadata": {},
   "source": [
    "## write YAML file"
   ]
  },
  {
   "cell_type": "code",
   "execution_count": 2,
   "metadata": {},
   "outputs": [
    {
     "name": "stdout",
     "output_type": "stream",
     "text": [
      "Overwriting config.yaml\n"
     ]
    }
   ],
   "source": [
    "%%writefile config.yaml\n",
    "file_type : csv\n",
    "dataset_name : test\n",
    "file_name : test_set\n",
    "table_name : test\n",
    "inbound_delimiter : \",\"\n",
    "outbound_delimiter : \"|\"\n",
    "skip_leading_rows : 1\n",
    "gz_file : 'data.csv.gz'\n",
    "gz_delimiter : '|'\n",
    "columns : \n",
    "    - passband\n",
    "    - flux\n",
    "    - flux_err"
   ]
  },
  {
   "cell_type": "code",
   "execution_count": 3,
   "metadata": {},
   "outputs": [
    {
     "data": {
      "text/plain": [
       "{'file_type': 'csv',\n",
       " 'dataset_name': 'test',\n",
       " 'file_name': 'test_set',\n",
       " 'table_name': 'test',\n",
       " 'inbound_delimiter': ',',\n",
       " 'outbound_delimiter': '|',\n",
       " 'skip_leading_rows': 1,\n",
       " 'gz_file': 'data.csv.gz',\n",
       " 'gz_delimiter': '|',\n",
       " 'columns': ['passband', 'flux', 'flux_err']}"
      ]
     },
     "execution_count": 3,
     "metadata": {},
     "output_type": "execute_result"
    }
   ],
   "source": [
    "import utility as util\n",
    "config = util.read_config('config.yaml')\n",
    "config"
   ]
  },
  {
   "cell_type": "code",
   "execution_count": 4,
   "metadata": {},
   "outputs": [],
   "source": [
    "ft = config['file_type']\n",
    "source_file = \"./\" + config['file_name'] + f'.{ft}'"
   ]
  },
  {
   "attachments": {},
   "cell_type": "markdown",
   "metadata": {},
   "source": [
    "## read file"
   ]
  },
  {
   "attachments": {},
   "cell_type": "markdown",
   "metadata": {},
   "source": [
    "### pandas"
   ]
  },
  {
   "cell_type": "code",
   "execution_count": 7,
   "metadata": {},
   "outputs": [
    {
     "name": "stderr",
     "output_type": "stream",
     "text": [
      "/var/folders/xg/z0bh966j5g78lvgdf6cp59m40000gn/T/ipykernel_66557/1626125209.py:5: FutureWarning: In a future version of pandas all arguments of read_csv except for the argument 'filepath_or_buffer' will be keyword-only.\n",
      "  df = pd.read_csv(source_file,config['inbound_delimiter'])\n"
     ]
    },
    {
     "name": "stdout",
     "output_type": "stream",
     "text": [
      "Time to read with modin: 19.563 seconds\n"
     ]
    },
    {
     "data": {
      "text/html": [
       "<div>\n",
       "<style scoped>\n",
       "    .dataframe tbody tr th:only-of-type {\n",
       "        vertical-align: middle;\n",
       "    }\n",
       "\n",
       "    .dataframe tbody tr th {\n",
       "        vertical-align: top;\n",
       "    }\n",
       "\n",
       "    .dataframe thead th {\n",
       "        text-align: right;\n",
       "    }\n",
       "</style>\n",
       "<table border=\"1\" class=\"dataframe\">\n",
       "  <thead>\n",
       "    <tr style=\"text-align: right;\">\n",
       "      <th></th>\n",
       "      <th>object_id</th>\n",
       "      <th>mjd</th>\n",
       "      <th>passband</th>\n",
       "      <th>flux</th>\n",
       "      <th>flux_err</th>\n",
       "      <th>detected</th>\n",
       "    </tr>\n",
       "  </thead>\n",
       "  <tbody>\n",
       "    <tr>\n",
       "      <th>0</th>\n",
       "      <td>104853940</td>\n",
       "      <td>59788.4007</td>\n",
       "      <td>3</td>\n",
       "      <td>-11.291860</td>\n",
       "      <td>5.062260</td>\n",
       "      <td>0</td>\n",
       "    </tr>\n",
       "    <tr>\n",
       "      <th>1</th>\n",
       "      <td>104853940</td>\n",
       "      <td>59788.4358</td>\n",
       "      <td>4</td>\n",
       "      <td>8.834054</td>\n",
       "      <td>9.886057</td>\n",
       "      <td>0</td>\n",
       "    </tr>\n",
       "    <tr>\n",
       "      <th>2</th>\n",
       "      <td>104853940</td>\n",
       "      <td>59789.4023</td>\n",
       "      <td>2</td>\n",
       "      <td>-4.987594</td>\n",
       "      <td>2.069673</td>\n",
       "      <td>0</td>\n",
       "    </tr>\n",
       "    <tr>\n",
       "      <th>3</th>\n",
       "      <td>104853940</td>\n",
       "      <td>59790.3630</td>\n",
       "      <td>1</td>\n",
       "      <td>-2.552541</td>\n",
       "      <td>1.805415</td>\n",
       "      <td>0</td>\n",
       "    </tr>\n",
       "    <tr>\n",
       "      <th>4</th>\n",
       "      <td>104853940</td>\n",
       "      <td>59790.4299</td>\n",
       "      <td>4</td>\n",
       "      <td>-17.382816</td>\n",
       "      <td>10.412850</td>\n",
       "      <td>0</td>\n",
       "    </tr>\n",
       "  </tbody>\n",
       "</table>\n",
       "</div>"
      ],
      "text/plain": [
       "   object_id         mjd  passband       flux   flux_err  detected\n",
       "0  104853940  59788.4007         3 -11.291860   5.062260         0\n",
       "1  104853940  59788.4358         4   8.834054   9.886057         0\n",
       "2  104853940  59789.4023         2  -4.987594   2.069673         0\n",
       "3  104853940  59790.3630         1  -2.552541   1.805415         0\n",
       "4  104853940  59790.4299         4 -17.382816  10.412850         0"
      ]
     },
     "execution_count": 7,
     "metadata": {},
     "output_type": "execute_result"
    }
   ],
   "source": [
    "# read file using pandas\n",
    "import pandas as pd\n",
    "import time\n",
    "start = time.time()\n",
    "df = pd.read_csv(source_file,config['inbound_delimiter'])\n",
    "print(\"Time to read with modin: {} seconds\".format(round(time.time() - start, 3)))\n",
    "df.head()"
   ]
  },
  {
   "attachments": {},
   "cell_type": "markdown",
   "metadata": {},
   "source": [
    "### dask"
   ]
  },
  {
   "cell_type": "code",
   "execution_count": 8,
   "metadata": {},
   "outputs": [
    {
     "name": "stdout",
     "output_type": "stream",
     "text": [
      "Time to read with dask: 0.022 seconds\n"
     ]
    },
    {
     "data": {
      "text/html": [
       "<div>\n",
       "<style scoped>\n",
       "    .dataframe tbody tr th:only-of-type {\n",
       "        vertical-align: middle;\n",
       "    }\n",
       "\n",
       "    .dataframe tbody tr th {\n",
       "        vertical-align: top;\n",
       "    }\n",
       "\n",
       "    .dataframe thead th {\n",
       "        text-align: right;\n",
       "    }\n",
       "</style>\n",
       "<table border=\"1\" class=\"dataframe\">\n",
       "  <thead>\n",
       "    <tr style=\"text-align: right;\">\n",
       "      <th></th>\n",
       "      <th>object_id</th>\n",
       "      <th>mjd</th>\n",
       "      <th>passband</th>\n",
       "      <th>flux</th>\n",
       "      <th>flux_err</th>\n",
       "      <th>detected</th>\n",
       "    </tr>\n",
       "  </thead>\n",
       "  <tbody>\n",
       "    <tr>\n",
       "      <th>0</th>\n",
       "      <td>104853940</td>\n",
       "      <td>59788.4007</td>\n",
       "      <td>3</td>\n",
       "      <td>-11.291860</td>\n",
       "      <td>5.062260</td>\n",
       "      <td>0</td>\n",
       "    </tr>\n",
       "    <tr>\n",
       "      <th>1</th>\n",
       "      <td>104853940</td>\n",
       "      <td>59788.4358</td>\n",
       "      <td>4</td>\n",
       "      <td>8.834054</td>\n",
       "      <td>9.886057</td>\n",
       "      <td>0</td>\n",
       "    </tr>\n",
       "    <tr>\n",
       "      <th>2</th>\n",
       "      <td>104853940</td>\n",
       "      <td>59789.4023</td>\n",
       "      <td>2</td>\n",
       "      <td>-4.987594</td>\n",
       "      <td>2.069673</td>\n",
       "      <td>0</td>\n",
       "    </tr>\n",
       "    <tr>\n",
       "      <th>3</th>\n",
       "      <td>104853940</td>\n",
       "      <td>59790.3630</td>\n",
       "      <td>1</td>\n",
       "      <td>-2.552541</td>\n",
       "      <td>1.805415</td>\n",
       "      <td>0</td>\n",
       "    </tr>\n",
       "    <tr>\n",
       "      <th>4</th>\n",
       "      <td>104853940</td>\n",
       "      <td>59790.4299</td>\n",
       "      <td>4</td>\n",
       "      <td>-17.382816</td>\n",
       "      <td>10.412850</td>\n",
       "      <td>0</td>\n",
       "    </tr>\n",
       "  </tbody>\n",
       "</table>\n",
       "</div>"
      ],
      "text/plain": [
       "   object_id         mjd  passband       flux   flux_err  detected\n",
       "0  104853940  59788.4007         3 -11.291860   5.062260         0\n",
       "1  104853940  59788.4358         4   8.834054   9.886057         0\n",
       "2  104853940  59789.4023         2  -4.987594   2.069673         0\n",
       "3  104853940  59790.3630         1  -2.552541   1.805415         0\n",
       "4  104853940  59790.4299         4 -17.382816  10.412850         0"
      ]
     },
     "execution_count": 8,
     "metadata": {},
     "output_type": "execute_result"
    }
   ],
   "source": [
    "# read file using dask\n",
    "import dask.dataframe as dd\n",
    "import time\n",
    "start = time.time()\n",
    "df = dd.read_csv(source_file)\n",
    "print(\"Time to read with dask: {} seconds\".format(round(time.time() - start, 3)))\n",
    "df.head()"
   ]
  },
  {
   "attachments": {},
   "cell_type": "markdown",
   "metadata": {},
   "source": [
    "### modin ray"
   ]
  },
  {
   "cell_type": "code",
   "execution_count": 9,
   "metadata": {},
   "outputs": [
    {
     "name": "stderr",
     "output_type": "stream",
     "text": [
      "2023-06-12 16:26:21,187\tINFO worker.py:1509 -- Started a local Ray instance. View the dashboard at \u001b[1m\u001b[32mhttp://127.0.0.1:8265 \u001b[39m\u001b[22m\n",
      "UserWarning: When using a pre-initialized Ray cluster, please ensure that the runtime env sets environment variable __MODIN_AUTOIMPORT_PANDAS__ to 1\n"
     ]
    },
    {
     "name": "stdout",
     "output_type": "stream",
     "text": [
      "Time to read with modin: 22.675 seconds\n"
     ]
    },
    {
     "data": {
      "text/html": [
       "<div>\n",
       "<style scoped>\n",
       "    .dataframe tbody tr th:only-of-type {\n",
       "        vertical-align: middle;\n",
       "    }\n",
       "\n",
       "    .dataframe tbody tr th {\n",
       "        vertical-align: top;\n",
       "    }\n",
       "\n",
       "    .dataframe thead th {\n",
       "        text-align: right;\n",
       "    }\n",
       "</style>\n",
       "<table border=\"1\" class=\"dataframe\">\n",
       "  <thead>\n",
       "    <tr style=\"text-align: right;\">\n",
       "      <th></th>\n",
       "      <th>object_id</th>\n",
       "      <th>mjd</th>\n",
       "      <th>passband</th>\n",
       "      <th>flux</th>\n",
       "      <th>flux_err</th>\n",
       "      <th>detected</th>\n",
       "    </tr>\n",
       "  </thead>\n",
       "  <tbody>\n",
       "    <tr>\n",
       "      <th>0</th>\n",
       "      <td>104853940</td>\n",
       "      <td>59788.4007</td>\n",
       "      <td>3</td>\n",
       "      <td>-11.291860</td>\n",
       "      <td>5.062260</td>\n",
       "      <td>0</td>\n",
       "    </tr>\n",
       "    <tr>\n",
       "      <th>1</th>\n",
       "      <td>104853940</td>\n",
       "      <td>59788.4358</td>\n",
       "      <td>4</td>\n",
       "      <td>8.834054</td>\n",
       "      <td>9.886057</td>\n",
       "      <td>0</td>\n",
       "    </tr>\n",
       "    <tr>\n",
       "      <th>2</th>\n",
       "      <td>104853940</td>\n",
       "      <td>59789.4023</td>\n",
       "      <td>2</td>\n",
       "      <td>-4.987594</td>\n",
       "      <td>2.069673</td>\n",
       "      <td>0</td>\n",
       "    </tr>\n",
       "    <tr>\n",
       "      <th>3</th>\n",
       "      <td>104853940</td>\n",
       "      <td>59790.3630</td>\n",
       "      <td>1</td>\n",
       "      <td>-2.552541</td>\n",
       "      <td>1.805415</td>\n",
       "      <td>0</td>\n",
       "    </tr>\n",
       "    <tr>\n",
       "      <th>4</th>\n",
       "      <td>104853940</td>\n",
       "      <td>59790.4299</td>\n",
       "      <td>4</td>\n",
       "      <td>-17.382816</td>\n",
       "      <td>10.412850</td>\n",
       "      <td>0</td>\n",
       "    </tr>\n",
       "  </tbody>\n",
       "</table>\n",
       "</div>"
      ],
      "text/plain": [
       "   object_id         mjd  passband       flux   flux_err  detected\n",
       "0  104853940  59788.4007         3 -11.291860   5.062260         0\n",
       "1  104853940  59788.4358         4   8.834054   9.886057         0\n",
       "2  104853940  59789.4023         2  -4.987594   2.069673         0\n",
       "3  104853940  59790.3630         1  -2.552541   1.805415         0\n",
       "4  104853940  59790.4299         4 -17.382816  10.412850         0"
      ]
     },
     "execution_count": 9,
     "metadata": {},
     "output_type": "execute_result"
    }
   ],
   "source": [
    "# # read file using modin ray\n",
    "import modin.pandas as pd\n",
    "import time\n",
    "import ray\n",
    "start = time.time()\n",
    "ray.shutdown()\n",
    "ray.init()\n",
    "df = pd.read_csv(source_file)\n",
    "print(\"Time to read with modin: {} seconds\".format(round(time.time() - start, 3)))\n",
    "df.head()"
   ]
  },
  {
   "attachments": {},
   "cell_type": "markdown",
   "metadata": {},
   "source": [
    "#### Dask appears to have the fastest file reading performance, taking only 0.022 seconds, whereas Pandas takes 19.5 seconds and Modin takes 22.67 seconds."
   ]
  },
  {
   "cell_type": "code",
   "execution_count": 10,
   "metadata": {},
   "outputs": [
    {
     "name": "stdout",
     "output_type": "stream",
     "text": [
      "column name and column length validation passed\n"
     ]
    },
    {
     "data": {
      "text/plain": [
       "1"
      ]
     },
     "execution_count": 10,
     "metadata": {},
     "output_type": "execute_result"
    }
   ],
   "source": [
    "util.column_header_val(df, config)"
   ]
  },
  {
   "cell_type": "code",
   "execution_count": 11,
   "metadata": {},
   "outputs": [
    {
     "name": "stdout",
     "output_type": "stream",
     "text": [
      "columns of files are: Index(['object_id', 'mjd', 'passband', 'flux', 'flux_err', 'detected'], dtype='object')\n",
      "columns of YAML are: ['passband', 'flux', 'flux_err']\n"
     ]
    }
   ],
   "source": [
    "print(\"columns of files are:\" ,df.columns)\n",
    "print(\"columns of YAML are:\" ,config['columns'])"
   ]
  },
  {
   "cell_type": "code",
   "execution_count": 12,
   "metadata": {},
   "outputs": [
    {
     "name": "stdout",
     "output_type": "stream",
     "text": [
      "column name and column length validation passed\n",
      "col validation passed\n"
     ]
    }
   ],
   "source": [
    "# validate the columns\n",
    "if util.column_header_val(df,config)==0:\n",
    "    print(\"validation failed\")\n",
    "else:\n",
    "    print(\"col validation passed\")"
   ]
  },
  {
   "cell_type": "code",
   "execution_count": 16,
   "metadata": {},
   "outputs": [
    {
     "name": "stderr",
     "output_type": "stream",
     "text": [
      "UserWarning: `to_csv` is not currently supported by PandasOnRay, defaulting to pandas implementation.\n"
     ]
    }
   ],
   "source": [
    "import gzip\n",
    "import csv\n",
    "# save the file in gz format pipe seperated\n",
    "with gzip.open(config['gz_file'], 'wt', encoding='utf-8') as file:\n",
    "        df.to_csv(file, sep=config['gz_delimiter'], index=False, quoting=csv.QUOTE_NONE)"
   ]
  },
  {
   "cell_type": "code",
   "execution_count": 19,
   "metadata": {},
   "outputs": [],
   "source": [
    "# open the file in gz format pipe seperated\n",
    "\n",
    "with gzip.open(config['gz_file'], 'rt', encoding='utf-8') as file:\n",
    "    df = pd.read_csv(file.name, sep=config['gz_delimiter'])"
   ]
  },
  {
   "cell_type": "code",
   "execution_count": 20,
   "metadata": {},
   "outputs": [
    {
     "data": {
      "text/html": [
       "<div>\n",
       "<style scoped>\n",
       "    .dataframe tbody tr th:only-of-type {\n",
       "        vertical-align: middle;\n",
       "    }\n",
       "\n",
       "    .dataframe tbody tr th {\n",
       "        vertical-align: top;\n",
       "    }\n",
       "\n",
       "    .dataframe thead th {\n",
       "        text-align: right;\n",
       "    }\n",
       "</style>\n",
       "<table border=\"1\" class=\"dataframe\">\n",
       "  <thead>\n",
       "    <tr style=\"text-align: right;\">\n",
       "      <th></th>\n",
       "      <th>object_id</th>\n",
       "      <th>mjd</th>\n",
       "      <th>passband</th>\n",
       "      <th>flux</th>\n",
       "      <th>flux_err</th>\n",
       "      <th>detected</th>\n",
       "    </tr>\n",
       "  </thead>\n",
       "  <tbody>\n",
       "    <tr>\n",
       "      <th>0</th>\n",
       "      <td>104853940</td>\n",
       "      <td>59788.4007</td>\n",
       "      <td>3</td>\n",
       "      <td>-11.291860</td>\n",
       "      <td>5.062260</td>\n",
       "      <td>0</td>\n",
       "    </tr>\n",
       "    <tr>\n",
       "      <th>1</th>\n",
       "      <td>104853940</td>\n",
       "      <td>59788.4358</td>\n",
       "      <td>4</td>\n",
       "      <td>8.834054</td>\n",
       "      <td>9.886057</td>\n",
       "      <td>0</td>\n",
       "    </tr>\n",
       "    <tr>\n",
       "      <th>2</th>\n",
       "      <td>104853940</td>\n",
       "      <td>59789.4023</td>\n",
       "      <td>2</td>\n",
       "      <td>-4.987594</td>\n",
       "      <td>2.069673</td>\n",
       "      <td>0</td>\n",
       "    </tr>\n",
       "    <tr>\n",
       "      <th>3</th>\n",
       "      <td>104853940</td>\n",
       "      <td>59790.3630</td>\n",
       "      <td>1</td>\n",
       "      <td>-2.552541</td>\n",
       "      <td>1.805415</td>\n",
       "      <td>0</td>\n",
       "    </tr>\n",
       "    <tr>\n",
       "      <th>4</th>\n",
       "      <td>104853940</td>\n",
       "      <td>59790.4299</td>\n",
       "      <td>4</td>\n",
       "      <td>-17.382816</td>\n",
       "      <td>10.412850</td>\n",
       "      <td>0</td>\n",
       "    </tr>\n",
       "  </tbody>\n",
       "</table>\n",
       "</div>"
      ],
      "text/plain": [
       "   object_id         mjd  passband       flux   flux_err  detected\n",
       "0  104853940  59788.4007         3 -11.291860   5.062260         0\n",
       "1  104853940  59788.4358         4   8.834054   9.886057         0\n",
       "2  104853940  59789.4023         2  -4.987594   2.069673         0\n",
       "3  104853940  59790.3630         1  -2.552541   1.805415         0\n",
       "4  104853940  59790.4299         4 -17.382816  10.412850         0"
      ]
     },
     "execution_count": 20,
     "metadata": {},
     "output_type": "execute_result"
    }
   ],
   "source": [
    "df.head()"
   ]
  },
  {
   "cell_type": "code",
   "execution_count": 21,
   "metadata": {},
   "outputs": [
    {
     "data": {
      "text/plain": [
       "703499799"
      ]
     },
     "execution_count": 21,
     "metadata": {},
     "output_type": "execute_result"
    }
   ],
   "source": [
    "import os\n",
    "\n",
    "#size of the gz format folder\n",
    "os.path.getsize(config['gz_file'])"
   ]
  }
 ],
 "metadata": {
  "kernelspec": {
   "display_name": "mlp",
   "language": "python",
   "name": "mlp"
  },
  "language_info": {
   "codemirror_mode": {
    "name": "ipython",
    "version": 3
   },
   "file_extension": ".py",
   "mimetype": "text/x-python",
   "name": "python",
   "nbconvert_exporter": "python",
   "pygments_lexer": "ipython3",
   "version": "3.8.15"
  },
  "orig_nbformat": 4
 },
 "nbformat": 4,
 "nbformat_minor": 2
}
